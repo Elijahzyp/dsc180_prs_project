{
 "cells": [
  {
   "cell_type": "code",
   "execution_count": 1,
   "id": "c3d06f6f-bfca-48e6-9207-9259ed414451",
   "metadata": {
    "scrolled": true
   },
   "outputs": [],
   "source": [
    "import os\n",
    "import pandas as pd\n",
    "import numpy as np\n",
    "from pandas_plink import read_plink\n",
    "from sklearn.linear_model import LinearRegression"
   ]
  },
  {
   "cell_type": "code",
   "execution_count": null,
   "id": "5448ac7d",
   "metadata": {},
   "outputs": [],
   "source": [
    "# check the allele freq"
   ]
  },
  {
   "cell_type": "code",
   "execution_count": null,
   "id": "9a40f868-ae7c-4cdb-8b94-de67885a3fda",
   "metadata": {},
   "outputs": [],
   "source": [
    "folder_path = 'LDREF/'\n",
    "\n",
    "# generate prefix 1000G.EUR.1 到 1000G.EUR.22\n",
    "file_prefixes = [f'1000G.EUR.{i}' for i in range(1, 23)]\n",
    "\n",
    "# stroe all names\n",
    "all_bim, all_fam, all_bed = [], [], []\n",
    "\n",
    "# read the file\n",
    "for prefix in file_prefixes:\n",
    "    file_path = os.path.join(folder_path, prefix)\n",
    "    bim, fam, bed = read_plink(file_path)\n",
    "    all_bim.append(bim)# SNP info\n",
    "    all_fam.append(fam)# fam info\n",
    "    all_bed.append(bed)# genotype"
   ]
  },
  {
   "cell_type": "code",
   "execution_count": null,
   "id": "69c5b7bf-13d6-478a-9eca-225df03c5776",
   "metadata": {},
   "outputs": [],
   "source": [
    "# combine all bim into one big df\n",
    "combined_bim = pd.concat(all_bim, ignore_index=True)\n",
    "combined_fam = pd.concat(all_fam, ignore_index=True)"
   ]
  },
  {
   "cell_type": "code",
   "execution_count": null,
   "id": "b84992b7-4faf-4a64-8e22-05f3eb55940b",
   "metadata": {},
   "outputs": [],
   "source": [
    "print(\"Combined BIM DataFrame\")\n",
    "combined_bim.head()"
   ]
  },
  {
   "cell_type": "code",
   "execution_count": null,
   "id": "2b7acb81-e01c-496f-8614-ea1aad5aa3fd",
   "metadata": {},
   "outputs": [],
   "source": [
    "print(\"Combined FAM DataFrame\")\n",
    "combined_fam.head()"
   ]
  },
  {
   "cell_type": "code",
   "execution_count": null,
   "id": "097cb538-739e-453e-a338-d7a1e20cb0e3",
   "metadata": {},
   "outputs": [],
   "source": [
    "all_bed"
   ]
  },
  {
   "cell_type": "code",
   "execution_count": null,
   "id": "43dbf153-df40-40b2-b491-e928c2cca786",
   "metadata": {},
   "outputs": [],
   "source": [
    "bed_matrix = all_bed[0].compute()\n",
    "\n",
    "print(\"Bed matrix shape (Samples x SNPs):\", bed_matrix.shape)\n",
    "\n",
    "# first bed\n",
    "sample_1_genotype = bed_matrix[0, :]\n",
    "print(\"First sample genotype:\", sample_1_genotype)\n",
    "\n",
    "# first snp\n",
    "snp_1_genotype = bed_matrix[:, 0]\n",
    "print(\"First SNP genotype across all samples:\", snp_1_genotype)"
   ]
  },
  {
   "cell_type": "code",
   "execution_count": null,
   "id": "ebf722ca-7b68-446d-b9b6-97f230689f4e",
   "metadata": {},
   "outputs": [],
   "source": [
    "df = pd.read_csv('allele_frequencies.afreq', sep='\\s+')\n",
    "\n",
    "# MAF > 5% common\n",
    "common_alleles = df[df['ALT_FREQS'] > 0.05].shape[0]\n",
    "\n",
    "# 1% < MAF < 5% low freq\n",
    "low_frequency_alleles = df[(df['ALT_FREQS'] > 0.01) & (df['ALT_FREQS'] <= 0.05)].shape[0]\n",
    "\n",
    "# MAF < 1% rare\n",
    "rare_alleles = df[df['ALT_FREQS'] < 0.01].shape[0]\n",
    "\n",
    "# 输出结果\n",
    "total_variants = df.shape[0]\n",
    "common_proportion = common_alleles / total_variants\n",
    "\n",
    "print(f\"common: {common_alleles}, 占比: {common_proportion:.2%}\")\n",
    "print(f\"low freq: {low_frequency_alleles}\")\n",
    "print(f\"rare: {rare_alleles}\")"
   ]
  },
  {
   "cell_type": "code",
   "execution_count": null,
   "id": "410ed071-904a-4d8a-b2cc-56e882f2c844",
   "metadata": {},
   "outputs": [],
   "source": [
    "import pandas as pd\n",
    "\n",
    "fam_df = pd.read_csv('merged_all_chromosomes.fam', sep='\\s+', header=None)\n",
    "fam_ids = fam_df[1] \n",
    "\n",
    "expression_df = pd.read_csv('GD462.GeneQuantRPKM.50FN.samplename.resk10.txt', sep='\\t')\n",
    "expression_ids = expression_df.columns[4:]\n",
    "\n",
    "matched_ids = fam_ids[fam_ids.isin(expression_ids)]\n",
    "matched_count = matched_ids.shape[0]\n",
    "\n",
    "print(f\"sample_with_expression: {matched_count}\")"
   ]
  },
  {
   "cell_type": "code",
   "execution_count": null,
   "id": "ca7fc4db-3416-4267-a88d-650de754b96d",
   "metadata": {},
   "outputs": [],
   "source": []
  }
 ],
 "metadata": {
  "kernelspec": {
   "display_name": "Python 3 (ipykernel)",
   "language": "python",
   "name": "python3"
  },
  "language_info": {
   "codemirror_mode": {
    "name": "ipython",
    "version": 3
   },
   "file_extension": ".py",
   "mimetype": "text/x-python",
   "name": "python",
   "nbconvert_exporter": "python",
   "pygments_lexer": "ipython3",
   "version": "3.11.10"
  }
 },
 "nbformat": 4,
 "nbformat_minor": 5
}
